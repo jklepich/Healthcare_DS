{
 "cells": [
  {
   "cell_type": "markdown",
   "id": "50982689",
   "metadata": {},
   "source": [
    "## My Jupyter Notebook on IBM Watson Studio\n"
   ]
  },
  {
   "cell_type": "markdown",
   "id": "e65fd998",
   "metadata": {},
   "source": [
    "__Joe Klepich__<br>\n",
    "Data Scientist"
   ]
  },
  {
   "cell_type": "markdown",
   "id": "109c28cd",
   "metadata": {},
   "source": [
    "_I am interested in data science because there are a lot of opportunities to grow in this area. It is also a multidisciplinary discipline using statistics, programming, business analytics, etc. that I really enjoy doing._"
   ]
  },
  {
   "cell_type": "markdown",
   "id": "94f26906",
   "metadata": {},
   "source": [
    "#### This code will show the result of a mathematical operation"
   ]
  },
  {
   "cell_type": "code",
   "execution_count": 1,
   "id": "9ac7ef0f",
   "metadata": {},
   "outputs": [
    {
     "data": {
      "text/plain": [
       "1.6666666666666667"
      ]
     },
     "execution_count": 1,
     "metadata": {},
     "output_type": "execute_result"
    }
   ],
   "source": [
    "5/3"
   ]
  },
  {
   "cell_type": "markdown",
   "id": "120734d5",
   "metadata": {},
   "source": [
    "***\n",
    "1. $x$\n",
    "2. $x^2$\n",
    "3. $x^3$\n",
    "    1. $x^3+1$\n",
    "    \n",
    "[Redirect to Google](http://google.com)"
   ]
  },
  {
   "cell_type": "code",
   "execution_count": null,
   "id": "2152837c",
   "metadata": {},
   "outputs": [],
   "source": []
  }
 ],
 "metadata": {
  "kernelspec": {
   "display_name": "Python 3 (ipykernel)",
   "language": "python",
   "name": "python3"
  },
  "language_info": {
   "codemirror_mode": {
    "name": "ipython",
    "version": 3
   },
   "file_extension": ".py",
   "mimetype": "text/x-python",
   "name": "python",
   "nbconvert_exporter": "python",
   "pygments_lexer": "ipython3",
   "version": "3.9.12"
  }
 },
 "nbformat": 4,
 "nbformat_minor": 5
}
